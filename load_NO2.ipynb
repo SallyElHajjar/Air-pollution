{
  "cells": [
    {
      "cell_type": "markdown",
      "metadata": {},
      "source": "# NO\u2082 Station Map for Luxembourg\nThis notebook loads NO\u2082 data from local Parquet files and visualizes station locations on a Luxembourg map."
    },
    {
      "cell_type": "code",
      "execution_count": null,
      "metadata": {},
      "outputs": [],
      "source": "import pandas as pd\nimport glob\nimport os\nimport folium"
    },
    {
      "cell_type": "code",
      "execution_count": null,
      "metadata": {},
      "outputs": [],
      "source": "folder_path = 'NO2'\nparquet_files = glob.glob(os.path.join(folder_path, '*.parquet'))\ndf_list = [pd.read_parquet(p) for p in parquet_files]\ndf = pd.concat(df_list, ignore_index=True)\nprint('Loaded', len(df), 'rows')"
    },
    {
      "cell_type": "code",
      "execution_count": null,
      "metadata": {},
      "outputs": [],
      "source": "\n# Map station identifiers to approximate coordinates\nstation_coords = {\n    'LU0101A': (49.6117, 6.1319),  # Luxembourg City (approx)\n    'LU0109A': (49.4950, 5.9800),  # Esch-sur-Alzette (approx)\n    'LU0114A': (49.75, 6.1)        # Northern Luxembourg (approx)\n}\n\n# Extract station id from Samplingpoint (assumes format 'LU/SPO-LU0101A_...')\ndf['StationID'] = df['Samplingpoint'].str.extract(r'(LU\\d{4}A)')\ndf['Latitude'] = df['StationID'].map(lambda x: station_coords.get(x, (None, None))[0])\ndf['Longitude'] = df['StationID'].map(lambda x: station_coords.get(x, (None, None))[1])\nprint(df[['StationID','Latitude','Longitude']].drop_duplicates())\n"
    },
    {
      "cell_type": "code",
      "execution_count": null,
      "metadata": {},
      "outputs": [],
      "source": "m = folium.Map(location=[49.75, 6.1], zoom_start=9)\nfor _, row in df.dropna(subset=['Latitude','Longitude']).iterrows():\n    folium.Marker([row['Latitude'], row['Longitude']], popup=row['StationID']).add_to(m)\n\nm.save('luxembourg_no2_map.html')\nm"
    },
    {
      "cell_type": "markdown",
      "metadata": {},
      "source": "## Interpolate to raster\nAverage station readings and interpolate them on a grid covering Luxembourg."
    },
    {
      "cell_type": "code",
      "execution_count": null,
      "metadata": {},
      "outputs": [],
      "source": "import numpy as np\nfrom scipy.interpolate import griddata\nimport rasterio\nfrom rasterio.transform import from_origin\n\n# compute mean value per station\nstation_means = df.groupby('StationID')['Value'].mean().reset_index()\nstation_means['Latitude'] = station_means['StationID'].map(lambda x: station_coords.get(x, (None, None))[0])\nstation_means['Longitude'] = station_means['StationID'].map(lambda x: station_coords.get(x, (None, None))[1])\npoints = station_means[['Longitude','Latitude']].dropna().values\nvalues = station_means['Value'].dropna().values\nlon_min, lon_max = 5.74, 6.53\nlat_min, lat_max = 49.44, 50.18\nnum_pixels = 100\nxi = np.linspace(lon_min, lon_max, num_pixels)\nyi = np.linspace(lat_min, lat_max, num_pixels)\nlon_grid, lat_grid = np.meshgrid(xi, yi)\nzi = griddata(points, values, (lon_grid, lat_grid), method='cubic')\ntransform = from_origin(lon_min, lat_max, (lon_max-lon_min)/num_pixels, (lat_max-lat_min)/num_pixels)\nwith rasterio.open('no2_luxembourg.tif', 'w', driver='GTiff', height=num_pixels, width=num_pixels, count=1, dtype=zi.dtype, crs='EPSG:4326', transform=transform) as dst:\n    dst.write(zi, 1)\nprint('Saved raster to no2_luxembourg.tif')"
    }
  ],
  "metadata": {
    "kernelspec": {
      "display_name": "Python 3",
      "language": "python",
      "name": "python3"
    },
    "language_info": {
      "name": "python",
      "version": "3.8"
    }
  },
  "nbformat": 4,
  "nbformat_minor": 5
}
