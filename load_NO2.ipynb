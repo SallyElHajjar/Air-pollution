{
  "cells": [
    {
      "cell_type": "markdown",
      "metadata": {},
      "source": "# NO\u2082 Station Map for Luxembourg\nThis notebook loads NO\u2082 data from local Parquet files and visualizes station locations on a Luxembourg map."
    },
    {
      "cell_type": "code",
      "execution_count": null,
      "metadata": {},
      "outputs": [],
      "source": "import pandas as pd\nimport glob\nimport os\nimport folium"
    },
    {
      "cell_type": "code",
      "execution_count": null,
      "metadata": {},
      "outputs": [],
      "source": "folder_path = 'NO2'\nparquet_files = glob.glob(os.path.join(folder_path, '*.parquet'))\ndf_list = [pd.read_parquet(p) for p in parquet_files]\ndf = pd.concat(df_list, ignore_index=True)\nprint('Loaded', len(df), 'rows')"
    },
    {
      "cell_type": "code",
      "execution_count": null,
      "metadata": {},
      "outputs": [],
      "source": "\n# Map station identifiers to approximate coordinates\nstation_coords = {\n    'LU0101A': (49.6117, 6.1319),  # Luxembourg City (approx)\n    'LU0109A': (49.4950, 5.9800),  # Esch-sur-Alzette (approx)\n    'LU0114A': (49.75, 6.1)        # Northern Luxembourg (approx)\n}\n\n# Extract station id from Samplingpoint (assumes format 'LU/SPO-LU0101A_...')\ndf['StationID'] = df['Samplingpoint'].str.extract(r'(LU\\d{4}A)')\ndf['Latitude'] = df['StationID'].map(lambda x: station_coords.get(x, (None, None))[0])\ndf['Longitude'] = df['StationID'].map(lambda x: station_coords.get(x, (None, None))[1])\nprint(df[['StationID','Latitude','Longitude']].drop_duplicates())\n"
    },
    {
      "cell_type": "code",
      "execution_count": null,
      "metadata": {},
      "outputs": [],
      "source": "m = folium.Map(location=[49.75, 6.1], zoom_start=9)\nfor _, row in df.dropna(subset=['Latitude','Longitude']).iterrows():\n    folium.Marker([row['Latitude'], row['Longitude']], popup=row['StationID']).add_to(m)\n\nm.save('luxembourg_no2_map.html')\nm"
    }
  ],
  "metadata": {
    "kernelspec": {
      "display_name": "Python 3",
      "language": "python",
      "name": "python3"
    },
    "language_info": {
      "name": "python",
      "version": "3.8"
    }
  },
  "nbformat": 4,
  "nbformat_minor": 5
}
